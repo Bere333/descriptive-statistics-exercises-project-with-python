{
 "cells": [
  {
   "cell_type": "markdown",
   "id": "6805e3f1",
   "metadata": {},
   "source": [
    "# Descriptive Statistics Problems\n",
    "\n",
    "## Exercise 1 – How long are movie titles?\n",
    "\n",
    "In this exercise, you will apply descriptive statistics techniques to a real dataset: a database of 1000 popular movies from the IMDb website.\n",
    "\n",
    "From the title of each movie, you will:\n",
    "- Calculate the title length (in characters).\n",
    "- Obtain key statistical metrics: mean, median, mode, range, variance, standard deviation, skewness, and kurtosis.\n",
    "- Identify the longest and shortest titles.\n",
    "- Visualize the distribution of these lengths with a histogram and a density curve.\n"
   ]
  },
  {
   "cell_type": "code",
   "execution_count": 2,
   "id": "ca3d2c0a",
   "metadata": {},
   "outputs": [
    {
     "data": {
      "text/html": [
       "<div>\n",
       "<style scoped>\n",
       "    .dataframe tbody tr th:only-of-type {\n",
       "        vertical-align: middle;\n",
       "    }\n",
       "\n",
       "    .dataframe tbody tr th {\n",
       "        vertical-align: top;\n",
       "    }\n",
       "\n",
       "    .dataframe thead th {\n",
       "        text-align: right;\n",
       "    }\n",
       "</style>\n",
       "<table border=\"1\" class=\"dataframe\">\n",
       "  <thead>\n",
       "    <tr style=\"text-align: right;\">\n",
       "      <th></th>\n",
       "      <th>star_rating</th>\n",
       "      <th>title</th>\n",
       "      <th>content_rating</th>\n",
       "      <th>genre</th>\n",
       "      <th>duration</th>\n",
       "      <th>actors_list</th>\n",
       "    </tr>\n",
       "  </thead>\n",
       "  <tbody>\n",
       "    <tr>\n",
       "      <th>0</th>\n",
       "      <td>9.3</td>\n",
       "      <td>The Shawshank Redemption</td>\n",
       "      <td>R</td>\n",
       "      <td>Crime</td>\n",
       "      <td>142</td>\n",
       "      <td>[u'Tim Robbins', u'Morgan Freeman', u'Bob Gunt...</td>\n",
       "    </tr>\n",
       "    <tr>\n",
       "      <th>1</th>\n",
       "      <td>9.2</td>\n",
       "      <td>The Godfather</td>\n",
       "      <td>R</td>\n",
       "      <td>Crime</td>\n",
       "      <td>175</td>\n",
       "      <td>[u'Marlon Brando', u'Al Pacino', u'James Caan']</td>\n",
       "    </tr>\n",
       "    <tr>\n",
       "      <th>2</th>\n",
       "      <td>9.1</td>\n",
       "      <td>The Godfather: Part II</td>\n",
       "      <td>R</td>\n",
       "      <td>Crime</td>\n",
       "      <td>200</td>\n",
       "      <td>[u'Al Pacino', u'Robert De Niro', u'Robert Duv...</td>\n",
       "    </tr>\n",
       "    <tr>\n",
       "      <th>3</th>\n",
       "      <td>9.0</td>\n",
       "      <td>The Dark Knight</td>\n",
       "      <td>PG-13</td>\n",
       "      <td>Action</td>\n",
       "      <td>152</td>\n",
       "      <td>[u'Christian Bale', u'Heath Ledger', u'Aaron E...</td>\n",
       "    </tr>\n",
       "    <tr>\n",
       "      <th>4</th>\n",
       "      <td>8.9</td>\n",
       "      <td>Pulp Fiction</td>\n",
       "      <td>R</td>\n",
       "      <td>Crime</td>\n",
       "      <td>154</td>\n",
       "      <td>[u'John Travolta', u'Uma Thurman', u'Samuel L....</td>\n",
       "    </tr>\n",
       "    <tr>\n",
       "      <th>...</th>\n",
       "      <td>...</td>\n",
       "      <td>...</td>\n",
       "      <td>...</td>\n",
       "      <td>...</td>\n",
       "      <td>...</td>\n",
       "      <td>...</td>\n",
       "    </tr>\n",
       "    <tr>\n",
       "      <th>974</th>\n",
       "      <td>7.4</td>\n",
       "      <td>Tootsie</td>\n",
       "      <td>PG</td>\n",
       "      <td>Comedy</td>\n",
       "      <td>116</td>\n",
       "      <td>[u'Dustin Hoffman', u'Jessica Lange', u'Teri G...</td>\n",
       "    </tr>\n",
       "    <tr>\n",
       "      <th>975</th>\n",
       "      <td>7.4</td>\n",
       "      <td>Back to the Future Part III</td>\n",
       "      <td>PG</td>\n",
       "      <td>Adventure</td>\n",
       "      <td>118</td>\n",
       "      <td>[u'Michael J. Fox', u'Christopher Lloyd', u'Ma...</td>\n",
       "    </tr>\n",
       "    <tr>\n",
       "      <th>976</th>\n",
       "      <td>7.4</td>\n",
       "      <td>Master and Commander: The Far Side of the World</td>\n",
       "      <td>PG-13</td>\n",
       "      <td>Action</td>\n",
       "      <td>138</td>\n",
       "      <td>[u'Russell Crowe', u'Paul Bettany', u'Billy Bo...</td>\n",
       "    </tr>\n",
       "    <tr>\n",
       "      <th>977</th>\n",
       "      <td>7.4</td>\n",
       "      <td>Poltergeist</td>\n",
       "      <td>PG</td>\n",
       "      <td>Horror</td>\n",
       "      <td>114</td>\n",
       "      <td>[u'JoBeth Williams', u\"Heather O'Rourke\", u'Cr...</td>\n",
       "    </tr>\n",
       "    <tr>\n",
       "      <th>978</th>\n",
       "      <td>7.4</td>\n",
       "      <td>Wall Street</td>\n",
       "      <td>R</td>\n",
       "      <td>Crime</td>\n",
       "      <td>126</td>\n",
       "      <td>[u'Charlie Sheen', u'Michael Douglas', u'Tamar...</td>\n",
       "    </tr>\n",
       "  </tbody>\n",
       "</table>\n",
       "<p>979 rows × 6 columns</p>\n",
       "</div>"
      ],
      "text/plain": [
       "     star_rating                                            title  \\\n",
       "0            9.3                         The Shawshank Redemption   \n",
       "1            9.2                                    The Godfather   \n",
       "2            9.1                           The Godfather: Part II   \n",
       "3            9.0                                  The Dark Knight   \n",
       "4            8.9                                     Pulp Fiction   \n",
       "..           ...                                              ...   \n",
       "974          7.4                                          Tootsie   \n",
       "975          7.4                      Back to the Future Part III   \n",
       "976          7.4  Master and Commander: The Far Side of the World   \n",
       "977          7.4                                      Poltergeist   \n",
       "978          7.4                                      Wall Street   \n",
       "\n",
       "    content_rating      genre  duration  \\\n",
       "0                R      Crime       142   \n",
       "1                R      Crime       175   \n",
       "2                R      Crime       200   \n",
       "3            PG-13     Action       152   \n",
       "4                R      Crime       154   \n",
       "..             ...        ...       ...   \n",
       "974             PG     Comedy       116   \n",
       "975             PG  Adventure       118   \n",
       "976          PG-13     Action       138   \n",
       "977             PG     Horror       114   \n",
       "978              R      Crime       126   \n",
       "\n",
       "                                           actors_list  \n",
       "0    [u'Tim Robbins', u'Morgan Freeman', u'Bob Gunt...  \n",
       "1      [u'Marlon Brando', u'Al Pacino', u'James Caan']  \n",
       "2    [u'Al Pacino', u'Robert De Niro', u'Robert Duv...  \n",
       "3    [u'Christian Bale', u'Heath Ledger', u'Aaron E...  \n",
       "4    [u'John Travolta', u'Uma Thurman', u'Samuel L....  \n",
       "..                                                 ...  \n",
       "974  [u'Dustin Hoffman', u'Jessica Lange', u'Teri G...  \n",
       "975  [u'Michael J. Fox', u'Christopher Lloyd', u'Ma...  \n",
       "976  [u'Russell Crowe', u'Paul Bettany', u'Billy Bo...  \n",
       "977  [u'JoBeth Williams', u\"Heather O'Rourke\", u'Cr...  \n",
       "978  [u'Charlie Sheen', u'Michael Douglas', u'Tamar...  \n",
       "\n",
       "[979 rows x 6 columns]"
      ]
     },
     "execution_count": 2,
     "metadata": {},
     "output_type": "execute_result"
    }
   ],
   "source": [
    "# Import libraries\n",
    "import pandas as pd\n",
    "import numpy as np\n",
    "import matplotlib.pyplot as plt\n",
    "from scipy.stats import skew, kurtosis, mode\n",
    "\n",
    "# Load IMDb dataset\n",
    "url = \"../assets/imdb_1000.csv\"\n",
    "df = pd.read_csv(url)\n",
    "df"
   ]
  },
  {
   "cell_type": "code",
   "execution_count": 3,
   "id": "61d39304",
   "metadata": {},
   "outputs": [
    {
     "data": {
      "text/html": [
       "<div>\n",
       "<style scoped>\n",
       "    .dataframe tbody tr th:only-of-type {\n",
       "        vertical-align: middle;\n",
       "    }\n",
       "\n",
       "    .dataframe tbody tr th {\n",
       "        vertical-align: top;\n",
       "    }\n",
       "\n",
       "    .dataframe thead th {\n",
       "        text-align: right;\n",
       "    }\n",
       "</style>\n",
       "<table border=\"1\" class=\"dataframe\">\n",
       "  <thead>\n",
       "    <tr style=\"text-align: right;\">\n",
       "      <th></th>\n",
       "      <th>star_rating</th>\n",
       "      <th>title</th>\n",
       "      <th>content_rating</th>\n",
       "      <th>genre</th>\n",
       "      <th>duration</th>\n",
       "      <th>actors_list</th>\n",
       "      <th>title_length</th>\n",
       "    </tr>\n",
       "  </thead>\n",
       "  <tbody>\n",
       "    <tr>\n",
       "      <th>0</th>\n",
       "      <td>9.3</td>\n",
       "      <td>The Shawshank Redemption</td>\n",
       "      <td>R</td>\n",
       "      <td>Crime</td>\n",
       "      <td>142</td>\n",
       "      <td>[u'Tim Robbins', u'Morgan Freeman', u'Bob Gunt...</td>\n",
       "      <td>24</td>\n",
       "    </tr>\n",
       "    <tr>\n",
       "      <th>1</th>\n",
       "      <td>9.2</td>\n",
       "      <td>The Godfather</td>\n",
       "      <td>R</td>\n",
       "      <td>Crime</td>\n",
       "      <td>175</td>\n",
       "      <td>[u'Marlon Brando', u'Al Pacino', u'James Caan']</td>\n",
       "      <td>13</td>\n",
       "    </tr>\n",
       "    <tr>\n",
       "      <th>2</th>\n",
       "      <td>9.1</td>\n",
       "      <td>The Godfather: Part II</td>\n",
       "      <td>R</td>\n",
       "      <td>Crime</td>\n",
       "      <td>200</td>\n",
       "      <td>[u'Al Pacino', u'Robert De Niro', u'Robert Duv...</td>\n",
       "      <td>22</td>\n",
       "    </tr>\n",
       "    <tr>\n",
       "      <th>3</th>\n",
       "      <td>9.0</td>\n",
       "      <td>The Dark Knight</td>\n",
       "      <td>PG-13</td>\n",
       "      <td>Action</td>\n",
       "      <td>152</td>\n",
       "      <td>[u'Christian Bale', u'Heath Ledger', u'Aaron E...</td>\n",
       "      <td>15</td>\n",
       "    </tr>\n",
       "    <tr>\n",
       "      <th>4</th>\n",
       "      <td>8.9</td>\n",
       "      <td>Pulp Fiction</td>\n",
       "      <td>R</td>\n",
       "      <td>Crime</td>\n",
       "      <td>154</td>\n",
       "      <td>[u'John Travolta', u'Uma Thurman', u'Samuel L....</td>\n",
       "      <td>12</td>\n",
       "    </tr>\n",
       "  </tbody>\n",
       "</table>\n",
       "</div>"
      ],
      "text/plain": [
       "   star_rating                     title content_rating   genre  duration  \\\n",
       "0          9.3  The Shawshank Redemption              R   Crime       142   \n",
       "1          9.2             The Godfather              R   Crime       175   \n",
       "2          9.1    The Godfather: Part II              R   Crime       200   \n",
       "3          9.0           The Dark Knight          PG-13  Action       152   \n",
       "4          8.9              Pulp Fiction              R   Crime       154   \n",
       "\n",
       "                                         actors_list  title_length  \n",
       "0  [u'Tim Robbins', u'Morgan Freeman', u'Bob Gunt...            24  \n",
       "1    [u'Marlon Brando', u'Al Pacino', u'James Caan']            13  \n",
       "2  [u'Al Pacino', u'Robert De Niro', u'Robert Duv...            22  \n",
       "3  [u'Christian Bale', u'Heath Ledger', u'Aaron E...            15  \n",
       "4  [u'John Travolta', u'Uma Thurman', u'Samuel L....            12  "
      ]
     },
     "execution_count": 3,
     "metadata": {},
     "output_type": "execute_result"
    }
   ],
   "source": [
    "# Create a new column called 'title_length' with the length (number of characters) of each title\n",
    "all_titles = df['title']\n",
    "len_titles = list(map(lambda x: len(x), all_titles))\n",
    "df['title_length'] = pd.Series(len_titles)\n",
    "df.head()"
   ]
  },
  {
   "cell_type": "code",
   "execution_count": 4,
   "id": "cae9c2e7",
   "metadata": {},
   "outputs": [
    {
     "name": "stdout",
     "output_type": "stream",
     "text": [
      "Title length mean: 15.481103166496425\n",
      "Title length median: 14.0\n",
      "Title length mode: 0    12\n",
      "Name: title_length, dtype: int64\n"
     ]
    }
   ],
   "source": [
    "# Calculate mean, median, and mode of the 'title_length' column\n",
    "tl = df['title_length']\n",
    "\n",
    "# Mean\n",
    "tl_mean = tl.mean()\n",
    "print(f'Title length mean: {tl_mean}')\n",
    "\n",
    "# Median\n",
    "tl_median = tl.median()\n",
    "print(f'Title length median: {tl_median}')\n",
    "\n",
    "# Mode\n",
    "tl_mode = tl.mode()\n",
    "print(f'Title length mode: {tl_mode}')"
   ]
  },
  {
   "cell_type": "code",
   "execution_count": 5,
   "id": "69664a9b",
   "metadata": {},
   "outputs": [
    {
     "name": "stdout",
     "output_type": "stream",
     "text": [
      "Tile length range: 67\n",
      "Tile length variance: 72.1067488840288\n",
      "Tile length standard desviation: 8.491569282766807\n"
     ]
    }
   ],
   "source": [
    "# Calculate the range, variance, and standard deviation of 'title_length'\n",
    "tl_range = tl.max() - tl.min()\n",
    "print(f'Tile length range: {tl_range}')\n",
    "\n",
    "tl_variance = tl.var()\n",
    "print(f'Tile length variance: {tl_variance}')\n",
    "\n",
    "tl_standard_desviation = tl.std()\n",
    "print(f'Tile length standard desviation: {tl_standard_desviation}')"
   ]
  },
  {
   "cell_type": "code",
   "execution_count": 6,
   "id": "6b9a931c",
   "metadata": {},
   "outputs": [
    {
     "name": "stdout",
     "output_type": "stream",
     "text": [
      "Title length kurtosis: 3.7867237597626007\n",
      "Title length skewness: 1.5229143965677572\n"
     ]
    }
   ],
   "source": [
    "# Calculate skewness and kurtosis of the 'title_length' column\n",
    "from scipy.stats import kurtosis, skew\n",
    "\n",
    "kurt = kurtosis(tl)\n",
    "print(f'Title length kurtosis: {kurt}')\n",
    "\n",
    "symetry = skew(tl)\n",
    "print(f'Title length skewness: {symetry}')"
   ]
  },
  {
   "cell_type": "code",
   "execution_count": 7,
   "id": "c0d09e68",
   "metadata": {},
   "outputs": [
    {
     "name": "stdout",
     "output_type": "stream",
     "text": [
      "The shortest title: 1\n",
      "The longest title: 68\n"
     ]
    }
   ],
   "source": [
    "# Print the shortest and longest title based on their length\n",
    "shortest_title = tl.to_numpy().min()\n",
    "print(f'The shortest title: {shortest_title}')\n",
    "\n",
    "longest_title = tl.to_numpy().max()\n",
    "print(f'The longest title: {longest_title}')"
   ]
  },
  {
   "cell_type": "code",
   "execution_count": 8,
   "id": "e86a1ced",
   "metadata": {},
   "outputs": [
    {
     "data": {
      "image/png": "[encoded data removed]",
      "text/plain": [
       "<Figure size 640x480 with 1 Axes>"
      ]
     },
     "metadata": {},
     "output_type": "display_data"
    }
   ],
   "source": [
    "# plot your results\n",
    "fig, ax = plt.subplots()\n",
    "\n",
    "label_price_mean = ['Shortest title', 'Longest title']\n",
    "counts = [shortest_title, longest_title]\n",
    "bar_labels = ['Shortest title', 'Longest title']\n",
    "bar_colors = ['green', 'pink']\n",
    "\n",
    "ax.bar(label_price_mean, counts, label=bar_labels, color=bar_colors)\n",
    "\n",
    "ax.set_xlabel('Shortest/Longest title')\n",
    "ax.set_ylabel('Number of characteres')\n",
    "ax.set_title('Title min/max length')\n",
    "ax.legend(title='Price mean color')\n",
    "\n",
    "plt.show()"
   ]
  },
  {
   "cell_type": "markdown",
   "id": "eaf3ceb7",
   "metadata": {},
   "source": [
    "---\n",
    "\n",
    "## Exercise 2 – Manual Calculation of Standard Deviation\n",
    "\n",
    "In this exercise, you will manually calculate the standard deviation by selecting five actual titles from the movie dataset you loaded earlier.\n"
   ]
  },
  {
   "cell_type": "code",
   "execution_count": 13,
   "id": "6d9bc6e4",
   "metadata": {},
   "outputs": [
    {
     "data": {
      "text/plain": [
       "array([24, 13, 22, 15, 12, 12, 30, 45, 16, 10, 49,  9, 46, 12, 37, 12, 31,\n",
       "       13, 10,  9, 10, 11, 21, 18,  5, 17, 28, 24, 22, 11, 13, 16, 10,  8,\n",
       "       18, 12, 19, 23, 11,  6, 14, 12, 11, 21,  9, 26,  7, 16, 68, 12, 15,\n",
       "       14, 18, 12, 18, 13, 19,  5, 14, 16,  8, 22, 11,  1,  6, 27, 19, 15,\n",
       "        8, 17,  6, 18, 15, 23, 12,  6,  7,  8, 27, 16, 42, 11, 10, 21, 19,\n",
       "       18, 18, 15,  7,  6, 14, 37, 11, 27, 19, 13,  7,  9,  8,  7, 32, 31,\n",
       "       17, 13,  5, 13,  7, 22, 10, 14, 21, 16, 17, 13, 20,  8, 28,  9, 34,\n",
       "       10, 16,  6, 17, 11, 11,  8,  2, 17, 13,  3,  9, 18, 21,  6, 16,  4,\n",
       "       15, 28,  8, 17, 17, 24, 33, 23, 21, 12,  7, 20, 16,  7,  9, 35, 14,\n",
       "       16, 14, 16,  6, 18,  9, 27, 24, 10, 11,  4, 13, 13, 15, 12, 19, 18,\n",
       "       16, 17, 13, 34,  7, 13,  5, 12, 13, 18, 12,  7, 21, 11, 19,  7,  9,\n",
       "       34, 19, 20, 13, 15, 12, 34, 28,  7, 23, 25, 17, 22, 11, 16, 36,  5,\n",
       "        7, 13, 11, 32, 10, 18,  5, 10, 16, 19, 24,  9,  8, 18, 12, 31,  6,\n",
       "        7, 44, 12, 16,  6,  7, 19, 21, 20, 21, 13, 17, 23,  8,  7,  9,  9,\n",
       "       14, 29, 20, 17, 15, 42, 14, 12,  9, 17, 26,  6, 20, 32, 20, 13, 13,\n",
       "       22,  5, 19, 27,  8, 14, 11, 11,  9, 14,  6, 17,  4, 10,  5, 15, 54,\n",
       "       11,  8, 17, 13, 20, 14, 17, 31, 18, 14, 16, 13, 24, 16, 33, 15, 11,\n",
       "       30,  9, 10, 24,  9, 20, 15, 14,  4, 12, 13,  8,  9,  6, 30, 11, 10,\n",
       "       18, 12, 19, 13,  8, 19,  9, 18, 23,  7,  3, 16,  8,  9, 15,  6, 12,\n",
       "        3, 18,  8, 11, 28, 25, 24,  9, 10, 11, 13, 13, 14, 10, 23, 19, 18,\n",
       "       19, 14, 18, 18,  7, 13, 18, 14, 18, 10, 17, 12, 17, 24, 17, 14, 10,\n",
       "        7, 17, 35, 20, 19, 33, 18, 15, 12,  8,  8, 18, 12, 22,  4, 15, 15,\n",
       "       16, 14,  9, 22, 15, 19, 13, 26,  9, 16, 10,  9, 14, 15, 18,  6, 21,\n",
       "       16,  5, 17, 48, 10, 13, 12, 16, 18, 24, 10,  4, 10, 22, 25, 12, 12,\n",
       "        7, 11, 16, 19,  9, 11, 11, 18, 19, 23,  7, 10, 25, 22, 15, 11, 15,\n",
       "        8,  9, 28,  8,  8, 18, 10,  5,  6,  8, 18, 13, 30, 12, 10, 19, 17,\n",
       "       13,  5, 12, 20, 11, 16,  7,  9, 12, 22, 20, 19, 20,  5, 25, 13,  8,\n",
       "       24, 26, 23, 11, 19,  6, 13, 31, 12, 26,  9,  8,  7, 28, 15, 14, 23,\n",
       "        6,  5, 15, 22, 12,  4, 31, 12, 29, 10, 12, 12, 23, 26, 14, 21,  5,\n",
       "       19, 14, 21,  6, 35,  8,  7, 17, 11, 21, 30, 17, 10, 11, 10, 35, 24,\n",
       "       16, 21, 17, 30, 11, 11, 12, 35, 14, 12, 26, 13, 26,  9,  9, 17,  4,\n",
       "       14, 21, 10,  9, 15, 18, 12, 15,  5, 16, 11, 16, 12, 16, 33, 20, 19,\n",
       "        4, 15, 22, 17, 14, 19, 24, 40, 14, 20, 18, 12, 20, 12,  8, 10, 13,\n",
       "        7, 27, 10,  8, 11, 15, 20,  7,  3,  3, 12,  9, 13,  7, 17, 11, 14,\n",
       "       18, 10, 18, 11,  7,  9, 15, 19, 31, 17,  8, 13,  7, 25, 10, 19,  8,\n",
       "       24,  8,  5,  8, 12, 11, 25, 11, 22, 15,  8, 15,  7, 30, 11, 16, 10,\n",
       "       18, 16, 17, 10, 26, 13,  5, 16,  7, 14, 15, 30,  9,  5,  5, 14, 18,\n",
       "        9,  9, 12,  5, 12, 34, 11, 12, 20, 25, 12, 13, 13, 44, 11, 12, 21,\n",
       "       19, 18, 11, 17, 18, 13, 15,  8, 18,  3, 31,  8, 31, 15, 14, 44,  9,\n",
       "       11,  6,  6, 16, 17, 26, 23, 27, 10, 17,  7, 28, 19, 12,  6, 14, 13,\n",
       "       11, 12,  9,  4, 12, 11, 15, 10, 14, 12, 16, 14,  4, 10,  7, 17, 21,\n",
       "       10,  9, 17,  4,  9, 21,  7, 19,  8, 20,  8, 16, 15,  8, 23, 20, 15,\n",
       "       21, 13, 14, 28, 15, 23,  6, 21, 13, 12, 11,  4, 15, 35, 18,  8, 15,\n",
       "       17, 15, 29, 29, 46, 10,  9, 16, 15, 20,  6,  9, 13, 27, 20, 24, 18,\n",
       "       24, 13, 19, 14, 12, 20,  9, 13,  5, 11,  9, 10, 18, 12, 15,  6, 36,\n",
       "        8, 18, 31, 10,  8, 14,  9, 16, 10, 12,  8,  9, 14, 26, 50, 12, 30,\n",
       "       18, 24, 16,  9,  8, 30, 14,  7, 15,  8, 13, 19,  4, 17, 13, 10, 28,\n",
       "       11, 15,  6, 11, 33,  7,  5,  4, 58, 15, 23,  9, 17, 24, 11, 41, 11,\n",
       "       11, 16, 13, 14, 28, 18, 26, 10,  2,  4,  8, 31, 17,  9, 22, 13,  7,\n",
       "       22, 15, 15, 12, 17,  9, 21, 17, 32, 11, 12,  9, 16, 13, 13, 25,  9,\n",
       "       17, 29,  9, 15,  7, 19, 27, 13, 34,  5,  7, 13,  6, 24,  5, 15, 16,\n",
       "       12, 25, 25, 13,  2, 27,  5, 11, 13, 15, 19, 11, 21, 15, 28,  5, 21,\n",
       "       10, 12,  2, 20, 11, 16, 48, 38, 17, 14, 11,  8, 21,  7, 11, 11, 39,\n",
       "        5,  6, 18, 46,  7,  6, 15,  7, 37,  4, 12,  5,  8,  9, 13, 13, 11,\n",
       "       14, 11,  7, 14,  3, 19, 14, 18, 19,  5,  9, 15, 15, 12, 41, 11, 20,\n",
       "        9,  9,  9, 19, 14, 22, 16, 15, 15, 19, 12, 15, 10, 10, 10,  5, 13,\n",
       "       12, 21,  5, 16, 24, 27, 18, 20, 16,  6, 18, 15,  7,  9, 18,  8, 19,\n",
       "       19, 11, 18, 14, 21,  7, 27, 47, 11, 11])"
      ]
     },
     "execution_count": 13,
     "metadata": {},
     "output_type": "execute_result"
    }
   ],
   "source": [
    "tl.to_numpy()"
   ]
  },
  {
   "cell_type": "code",
   "execution_count": 15,
   "id": "3005c0f9",
   "metadata": {},
   "outputs": [
    {
     "name": "stdout",
     "output_type": "stream",
     "text": [
      "[11, 26, 11, 9, 31]\n"
     ]
    }
   ],
   "source": [
    "# Create a list with 5 actual values from df['title_length'], for example: [10, 13, 14, 18, 22]\n",
    "import random\n",
    "\n",
    "tl_arr = list(tl)\n",
    "tl_choices = random.choices(tl_arr, k = 5)\n",
    "print(tl_choices)"
   ]
  },
  {
   "cell_type": "code",
   "execution_count": 18,
   "id": "d96b771f",
   "metadata": {},
   "outputs": [
    {
     "name": "stdout",
     "output_type": "stream",
     "text": [
      "17.6\n"
     ]
    }
   ],
   "source": [
    "# Calculate the mean of the 5 values\n",
    "tl_manual_mean = sum(tl_choices) / 5\n",
    "print(tl_manual_mean)"
   ]
  },
  {
   "cell_type": "code",
   "execution_count": null,
   "id": "346d0dc5",
   "metadata": {},
   "outputs": [],
   "source": [
    "# Calculate the squared differences with respect to the mean"
   ]
  },
  {
   "cell_type": "code",
   "execution_count": null,
   "id": "f56517ff",
   "metadata": {},
   "outputs": [],
   "source": [
    "# Calculate the variance (average of the squared differences) and its square root to obtain the standard deviation"
   ]
  }
 ],
 "metadata": {
  "kernelspec": {
   "display_name": "Python 3",
   "language": "python",
   "name": "python3"
  },
  "language_info": {
   "codemirror_mode": {
    "name": "ipython",
    "version": 3
   },
   "file_extension": ".py",
   "mimetype": "text/x-python",
   "name": "python",
   "nbconvert_exporter": "python",
   "pygments_lexer": "ipython3",
   "version": "3.11.4"
  }
 },
 "nbformat": 4,
 "nbformat_minor": 5
}
